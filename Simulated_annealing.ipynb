{
  "nbformat": 4,
  "nbformat_minor": 0,
  "metadata": {
    "colab": {
      "name": "Simulated_annealing.ipynb",
      "provenance": [],
      "collapsed_sections": [],
      "authorship_tag": "ABX9TyPXFHjA3qjSixHBGCgiwgdJ",
      "include_colab_link": true
    },
    "kernelspec": {
      "name": "python3",
      "display_name": "Python 3"
    },
    "language_info": {
      "name": "python"
    }
  },
  "cells": [
    {
      "cell_type": "markdown",
      "metadata": {
        "id": "view-in-github",
        "colab_type": "text"
      },
      "source": [
        "<a href=\"https://colab.research.google.com/github/Nawapat2541/Simulated_annealing/blob/main/Simulated_annealing.ipynb\" target=\"_parent\"><img src=\"https://colab.research.google.com/assets/colab-badge.svg\" alt=\"Open In Colab\"/></a>"
      ]
    },
    {
      "cell_type": "code",
      "metadata": {
        "id": "htH5YPWVapVa"
      },
      "source": [
        "import inspect as ins\n",
        "import numpy as np\n",
        "import math as m\n",
        "import matplotlib.pyplot as plt\n",
        "import random as rand"
      ],
      "execution_count": 2,
      "outputs": []
    },
    {
      "cell_type": "code",
      "metadata": {
        "id": "Ed-5Y1TObFT5"
      },
      "source": [
        "def delta_c(func, a, b):\n",
        "  return abs(func(a) - func(b))"
      ],
      "execution_count": 3,
      "outputs": []
    },
    {
      "cell_type": "code",
      "metadata": {
        "id": "oD6b3bIyb9pf"
      },
      "source": [
        "objective_function = lambda x:  (x+3)*(x-2)**2*(x+1)**3"
      ],
      "execution_count": 4,
      "outputs": []
    },
    {
      "cell_type": "code",
      "metadata": {
        "colab": {
          "base_uri": "https://localhost:8080/"
        },
        "id": "ftrHUCv0cQi7",
        "outputId": "acbc5df7-2164-4529-92c2-dacec0560637"
      },
      "source": [
        "diff = delta_c(objective_function, 3, 5)\n",
        "print(diff)"
      ],
      "execution_count": 5,
      "outputs": [
        {
          "output_type": "stream",
          "name": "stdout",
          "text": [
            "15168\n"
          ]
        }
      ]
    },
    {
      "cell_type": "code",
      "metadata": {
        "colab": {
          "base_uri": "https://localhost:8080/",
          "height": 1000
        },
        "id": "yKp79om-ntYW",
        "outputId": "fc53ad72-3cf0-4caa-e91f-d9b606c6a7b5"
      },
      "source": [
        "xlist, ylist = simulated_annealing(objective_function, -0.5, 4, 1250, tol=5e-11)\n",
        "for index, value in enumerate(xlist):\n",
        "    print(f\"round#{index}, function_value = {value}\")\n",
        "\n",
        "for index, value in enumerate(ylist):\n",
        "    print(f\"round#{index}, function_value = {value}\")\n",
        "plt.plot(xlist)"
      ],
      "execution_count": 71,
      "outputs": [
        {
          "output_type": "stream",
          "name": "stdout",
          "text": [
            "old-present ratio is less than tolerace\n",
            "round#0, function_value = -1.064796699368205\n",
            "round#1, function_value = -2.0434873169079713\n",
            "round#2, function_value = -2.4879423603008677\n",
            "round#3, function_value = -2.5504891439056636\n",
            "round#4, function_value = -2.6454789286356855\n",
            "round#5, function_value = -2.6131103745754674\n",
            "round#6, function_value = -2.6127718020193194\n",
            "round#7, function_value = -2.601430349539531\n",
            "round#8, function_value = -2.597128876630978\n",
            "round#9, function_value = -2.5962739944925577\n",
            "round#10, function_value = -2.595937520271791\n",
            "round#11, function_value = -2.5955234899634503\n",
            "round#12, function_value = -2.5951738863543627\n",
            "round#13, function_value = -2.595160505958091\n",
            "round#14, function_value = -2.5950992849819987\n",
            "round#15, function_value = -2.5950525928721873\n",
            "round#16, function_value = -2.5950331237851962\n",
            "round#17, function_value = -2.5950300833177713\n",
            "round#18, function_value = -2.595025010693426\n",
            "round#19, function_value = -2.595023987406333\n",
            "round#20, function_value = -2.595022542927305\n",
            "round#21, function_value = -2.595021878746028\n",
            "round#22, function_value = -2.5950214654418082\n",
            "round#23, function_value = -2.5950213170657084\n",
            "round#24, function_value = -2.595021258913622\n",
            "round#25, function_value = -2.5950212468274763\n",
            "round#26, function_value = -2.5950212232664587\n",
            "round#27, function_value = -2.595021218490779\n",
            "round#28, function_value = -2.5950212166604385\n",
            "round#29, function_value = -2.59502121413532\n",
            "round#30, function_value = -2.5950212134870574\n",
            "round#31, function_value = -2.5950212126916528\n",
            "round#32, function_value = -2.5950212123965057\n",
            "round#33, function_value = -2.595021212219257\n",
            "round#34, function_value = -2.5950212122089966\n",
            "round#0, function_value = -0.0049452538675640815\n",
            "round#1, function_value = -17.769058935832568\n",
            "round#2, function_value = -33.9759582874817\n",
            "round#3, function_value = -34.69465228973344\n",
            "round#4, function_value = -34.08631223447582\n",
            "round#5, function_value = -34.559466428712234\n",
            "round#6, function_value = -34.56286063633087\n",
            "round#7, function_value = -34.65884576378115\n",
            "round#8, function_value = -34.68641240707849\n",
            "round#9, function_value = -34.691322823717414\n",
            "round#10, function_value = -34.69320417065472\n",
            "round#11, function_value = -34.695479429124745\n",
            "round#12, function_value = -34.69736654418678\n",
            "round#13, function_value = -34.69743815013555\n",
            "round#14, function_value = -34.69776519520435\n",
            "round#15, function_value = -34.69801398395143\n",
            "round#16, function_value = -34.698117556519925\n",
            "round#17, function_value = -34.69813372261717\n",
            "round#18, function_value = -34.698160688400876\n",
            "round#19, function_value = -34.698166127341906\n",
            "round#20, function_value = -34.698173804533674\n",
            "round#21, function_value = -34.69817733438011\n",
            "round#22, function_value = -34.69817953086288\n",
            "round#23, function_value = -34.698180319388946\n",
            "round#24, function_value = -34.69818062842934\n",
            "round#25, function_value = -34.69818069265923\n",
            "round#26, function_value = -34.69818081787034\n",
            "round#27, function_value = -34.69818084324987\n",
            "round#28, function_value = -34.698180852976904\n",
            "round#29, function_value = -34.69818086639623\n",
            "round#30, function_value = -34.69818086984131\n",
            "round#31, function_value = -34.69818087406834\n",
            "round#32, function_value = -34.69818087563686\n",
            "round#33, function_value = -34.6981808765788\n",
            "round#34, function_value = -34.69818087663333\n"
          ]
        },
        {
          "output_type": "execute_result",
          "data": {
            "text/plain": [
              "[<matplotlib.lines.Line2D at 0x7ff68ebacbd0>]"
            ]
          },
          "metadata": {},
          "execution_count": 71
        },
        {
          "output_type": "display_data",
          "data": {
            "image/png": "[encoded data removed]",
            "text/plain": [
              "<Figure size 432x288 with 1 Axes>"
            ]
          },
          "metadata": {
            "needs_background": "light"
          }
        }
      ]
    },
    {
      "cell_type": "code",
      "metadata": {
        "id": "xkpazrYIpPHD"
      },
      "source": [
        "def simulated_annealing(input_function, x0, rand_range=10, kmax=1000, tol=1e-10):\n",
        "  xlist = []\n",
        "  ylist = []\n",
        "  k=1\n",
        "  xpresent = x0\n",
        "  while(k<=kmax):\n",
        "    xold = xpresent\n",
        "      \n",
        "    if k>=kmax/10 and k<kmax/2:\n",
        "      rand_range =  rand_range - rand_range*0.2\n",
        "    elif k<3*kmax/4:\n",
        "      rand_range =  rand_range - rand_range*0.5\n",
        "    elif k<9*kmax/10:\n",
        "      rand_range =  rand_range - rand_range*0.8\n",
        "    else:\n",
        "      rand_range =  rand_range - rand_range*0.95\n",
        "    \n",
        "    if input_function(xpresent+0.01) < input_function(xpresent):\n",
        "      rand_x = rand.uniform(xpresent, xpresent+rand_range)\n",
        "    else:\n",
        "      rand_x = rand.uniform(xpresent-rand_range, xpresent)\n",
        "\n",
        "    if input_function(rand_x) <  input_function(xpresent):\n",
        "      xpresent = rand_x\n",
        "    elif prob_func(input_function, xold, xpresent) >= rand.random():\n",
        "      xpresent = rand_x    \n",
        "\n",
        "    xlist.append(xpresent)\n",
        "    ylist.append(input_function(xpresent))\n",
        "    k = k + 1\n",
        "\n",
        "    # print(f\"xold = {xold}, xpresent = {xpresent}\")\n",
        "    if(abs(xold-xpresent)/abs(xpresent) <= tol):\n",
        "      print(\"old-present ratio is less than tolerace\")\n",
        "      break\n",
        "\n",
        "    if(abs(input_function(xpresent)) <= tol):\n",
        "      print(\"present func is less than tolerace\")\n",
        "      break\n",
        "    \n",
        "  return xlist, ylist"
      ],
      "execution_count": 33,
      "outputs": []
    },
    {
      "cell_type": "code",
      "metadata": {
        "id": "1q2hev4Y5rLV"
      },
      "source": [
        "def prob_func(func, old, present):\n",
        "  if delta_c(func, old, present) <= 0:\n",
        "    return 1\n",
        "  else:\n",
        "    return m.e**(-delta_c(func, old, present)/present)"
      ],
      "execution_count": 7,
      "outputs": []
    },
    {
      "cell_type": "code",
      "metadata": {
        "id": "2TTgCp-3AeHh",
        "colab": {
          "base_uri": "https://localhost:8080/"
        },
        "outputId": "b5f9760d-b586-4863-f437-05e02c04dec7"
      },
      "source": [
        "x1 = list(np.linspace(-3.5, 2.5, 50))\n",
        "print(x1)\n",
        "result = []\n",
        "for i in x1:\n",
        "  result.append(objective_function(i))\n",
        "\n",
        "print(result)"
      ],
      "execution_count": 56,
      "outputs": [
        {
          "output_type": "stream",
          "name": "stdout",
          "text": [
            "[-3.5, -3.377551020408163, -3.2551020408163267, -3.13265306122449, -3.010204081632653, -2.887755102040816, -2.7653061224489797, -2.642857142857143, -2.520408163265306, -2.3979591836734695, -2.2755102040816326, -2.1530612244897958, -2.0306122448979593, -1.9081632653061225, -1.7857142857142858, -1.663265306122449, -1.5408163265306123, -1.4183673469387754, -1.295918367346939, -1.1734693877551021, -1.0510204081632653, -0.9285714285714288, -0.806122448979592, -0.6836734693877551, -0.5612244897959187, -0.4387755102040818, -0.3163265306122449, -0.19387755102040805, -0.07142857142857162, 0.05102040816326525, 0.17346938775510212, 0.29591836734693855, 0.4183673469387754, 0.5408163265306118, 0.6632653061224492, 0.7857142857142856, 0.908163265306122, 1.0306122448979593, 1.1530612244897958, 1.2755102040816322, 1.3979591836734695, 1.520408163265306, 1.6428571428571423, 1.7653061224489797, 1.887755102040816, 2.0102040816326525, 2.13265306122449, 2.2551020408163263, 2.3775510204081627, 2.5]\n",
            "[236.328125, 146.7351848227466, 80.79320445621461, 33.89703615580683, 2.080679597216013, -18.039414723293067, -29.31861512357053, -34.13595140523931, -34.443530558323246, -31.81352550084601, -27.48273685340039, -22.394727748688144, -17.239531676030275, -12.490933360847823, -8.441322679113297, -5.234121606772436, -2.8937842041365993, -1.3533696352455928, -0.4796882222010537, -0.09602053447029527, -0.002409513160702668, 0.006474369735399298, 0.12589491712535428, 0.5280389776302805, 1.351432181428665, 2.6927816411294687, 4.601245617674698, 7.075130151271482, 10.061012657353647, 13.45529248757282, 17.108168455818905, 20.830043329270197, 24.400355284472944, 27.5788363284503, 30.11919768484097, 31.785242145067105, 32.36940338453195, 31.713712243846757, 29.73318997508736, 26.441668453080123, 21.980037351717407, 16.646918285302707, 10.931765914924929, 5.550396019862422, 1.4829405340166097, 0.014229547374674398, 2.7766002725022245, 11.795132976065087, 29.535313875380847, 58.953125]\n"
          ]
        }
      ]
    },
    {
      "cell_type": "code",
      "metadata": {
        "colab": {
          "base_uri": "https://localhost:8080/",
          "height": 340
        },
        "id": "h8zduubPpVdv",
        "outputId": "17cfacf8-950f-425b-f529-f1c7693af51a"
      },
      "source": [
        "plt.scatter(xlist, ylist, c='r')\n",
        "print(xlist)\n",
        "print(ylist)\n",
        "plt.plot(x1, result)"
      ],
      "execution_count": 72,
      "outputs": [
        {
          "output_type": "stream",
          "name": "stdout",
          "text": [
            "[-1.064796699368205, -2.0434873169079713, -2.4879423603008677, -2.5504891439056636, -2.6454789286356855, -2.6131103745754674, -2.6127718020193194, -2.601430349539531, -2.597128876630978, -2.5962739944925577, -2.595937520271791, -2.5955234899634503, -2.5951738863543627, -2.595160505958091, -2.5950992849819987, -2.5950525928721873, -2.5950331237851962, -2.5950300833177713, -2.595025010693426, -2.595023987406333, -2.595022542927305, -2.595021878746028, -2.5950214654418082, -2.5950213170657084, -2.595021258913622, -2.5950212468274763, -2.5950212232664587, -2.595021218490779, -2.5950212166604385, -2.59502121413532, -2.5950212134870574, -2.5950212126916528, -2.5950212123965057, -2.595021212219257, -2.5950212122089966]\n",
            "[-0.0049452538675640815, -17.769058935832568, -33.9759582874817, -34.69465228973344, -34.08631223447582, -34.559466428712234, -34.56286063633087, -34.65884576378115, -34.68641240707849, -34.691322823717414, -34.69320417065472, -34.695479429124745, -34.69736654418678, -34.69743815013555, -34.69776519520435, -34.69801398395143, -34.698117556519925, -34.69813372261717, -34.698160688400876, -34.698166127341906, -34.698173804533674, -34.69817733438011, -34.69817953086288, -34.698180319388946, -34.69818062842934, -34.69818069265923, -34.69818081787034, -34.69818084324987, -34.698180852976904, -34.69818086639623, -34.69818086984131, -34.69818087406834, -34.69818087563686, -34.6981808765788, -34.69818087663333]\n"
          ]
        },
        {
          "output_type": "execute_result",
          "data": {
            "text/plain": [
              "[<matplotlib.lines.Line2D at 0x7ff68eb27d50>]"
            ]
          },
          "metadata": {},
          "execution_count": 72
        },
        {
          "output_type": "display_data",
          "data": {
            "image/png": "[encoded data removed]",
            "text/plain": [
              "<Figure size 432x288 with 1 Axes>"
            ]
          },
          "metadata": {
            "needs_background": "light"
          }
        }
      ]
    }
  ]
}