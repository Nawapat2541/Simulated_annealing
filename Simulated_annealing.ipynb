{
  "nbformat": 4,
  "nbformat_minor": 0,
  "metadata": {
    "colab": {
      "name": "Simulated_annealing.ipynb",
      "provenance": [],
      "collapsed_sections": [],
      "authorship_tag": "ABX9TyMFg3Imb5/99nV5TmpB2dU3",
      "include_colab_link": true
    },
    "kernelspec": {
      "name": "python3",
      "display_name": "Python 3"
    },
    "language_info": {
      "name": "python"
    }
  },
  "cells": [
    {
      "cell_type": "markdown",
      "metadata": {
        "id": "view-in-github",
        "colab_type": "text"
      },
      "source": [
        "<a href=\"https://colab.research.google.com/github/Nawapat2541/Simulated_annealing/blob/main/Simulated_annealing.ipynb\" target=\"_parent\"><img src=\"https://colab.research.google.com/assets/colab-badge.svg\" alt=\"Open In Colab\"/></a>"
      ]
    },
    {
      "cell_type": "code",
      "metadata": {
        "id": "htH5YPWVapVa"
      },
      "source": [
        "import inspect as ins\n",
        "import numpy as np\n",
        "import math as m\n",
        "import matplotlib.pyplot as plt\n",
        "import random as rand"
      ],
      "execution_count": 51,
      "outputs": []
    },
    {
      "cell_type": "code",
      "metadata": {
        "id": "Ed-5Y1TObFT5"
      },
      "source": [
        "def delta_c(func, a, b):\n",
        "  return abs(func(a) - func(b))"
      ],
      "execution_count": 59,
      "outputs": []
    },
    {
      "cell_type": "code",
      "metadata": {
        "id": "oD6b3bIyb9pf"
      },
      "source": [
        "objective_function = lambda x:  (x+3)*(x-2)**2*(x+1)**3"
      ],
      "execution_count": 125,
      "outputs": []
    },
    {
      "cell_type": "code",
      "metadata": {
        "colab": {
          "base_uri": "https://localhost:8080/"
        },
        "id": "ftrHUCv0cQi7",
        "outputId": "d8fedca6-f53b-423c-ccd6-16a079d004af"
      },
      "source": [
        "diff = diff_value(objective_function, 3, 5)\n",
        "print(diff)"
      ],
      "execution_count": null,
      "outputs": [
        {
          "output_type": "stream",
          "name": "stdout",
          "text": [
            "124\n"
          ]
        }
      ]
    },
    {
      "cell_type": "code",
      "metadata": {
        "colab": {
          "base_uri": "https://localhost:8080/",
          "height": 975
        },
        "id": "yKp79om-ntYW",
        "outputId": "8106636a-c48b-4d1a-d8bc-09737e99cece"
      },
      "source": [
        "xlist = simulated_annealing(objective_function, -0.5, 20, 1250, tol=5e-11)\n",
        "for idx, val in enumerate(xlist):\n",
        "    print(idx, val)\n",
        "plt.plot(xlist)"
      ],
      "execution_count": 153,
      "outputs": [
        {
          "output_type": "stream",
          "name": "stdout",
          "text": [
            "old-present ratio is less than tolerace\n",
            "0 -2.0835109346627654\n",
            "1 -4.5199482561172175\n",
            "2 -3.026636429255741\n",
            "3 -2.7870772347814547\n",
            "4 -2.708312027806091\n",
            "5 -2.479294644108652\n",
            "6 -2.513498919529986\n",
            "7 -2.572471254736789\n",
            "8 -2.580647694553987\n",
            "9 -2.5635501232484854\n",
            "10 -2.567750342221074\n",
            "11 -2.5705998702330297\n",
            "12 -2.5723449426646208\n",
            "13 -2.5734049946952795\n",
            "14 -2.573777757271132\n",
            "15 -2.5739789074836588\n",
            "16 -2.5740124720561535\n",
            "17 -2.574083443827292\n",
            "18 -2.5741161219770525\n",
            "19 -2.5741280035153404\n",
            "20 -2.5741374390555714\n",
            "21 -2.5741412302703366\n",
            "22 -2.5741428721801842\n",
            "23 -2.574143850636129\n",
            "24 -2.5741443094301646\n",
            "25 -2.574144338649589\n",
            "26 -2.574144465376419\n",
            "27 -2.5741445181922487\n",
            "28 -2.5741445516198422\n",
            "29 -2.574144553297073\n",
            "30 -2.5741445622272723\n",
            "31 -2.574144562656026\n",
            "32 -2.5741445630429927\n",
            "33 -2.57414456390778\n",
            "34 -2.5741445640452025\n",
            "35 -2.5741445642903926\n",
            "36 -2.574144564332889\n"
          ]
        },
        {
          "output_type": "execute_result",
          "data": {
            "text/plain": [
              "[<matplotlib.lines.Line2D at 0x7f7d96a73290>]"
            ]
          },
          "metadata": {},
          "execution_count": 153
        },
        {
          "output_type": "display_data",
          "data": {
            "image/png": "[encoded data removed]",
            "text/plain": [
              "<Figure size 432x288 with 1 Axes>"
            ]
          },
          "metadata": {
            "needs_background": "light"
          }
        }
      ]
    },
    {
      "cell_type": "code",
      "metadata": {
        "id": "xkpazrYIpPHD"
      },
      "source": [
        "def simulated_annealing(input_function, x0, rand_range=10, kmax=1000, tol=1e-10):\n",
        "  xlist = []\n",
        "  k=1\n",
        "  xpresent = x0\n",
        "  while(k<=kmax):\n",
        "    xold = xpresent\n",
        "      \n",
        "    if k>=kmax/10 and k<=kmax/2:\n",
        "      rand_range =  rand_range - rand_range*0.2\n",
        "    elif k<=3*kmax/4:\n",
        "      rand_range =  rand_range - rand_range*0.5\n",
        "    elif k<=9*kmax/10:\n",
        "      rand_range =  rand_range - rand_range*0.8\n",
        "    else:\n",
        "      rand_range =  rand_range - rand_range*0.95\n",
        "    \n",
        "    if input_function(xpresent+0.01) < input_function(xpresent):\n",
        "      rand_x = rand.uniform(xpresent, xpresent+rand_range)\n",
        "    else:\n",
        "      rand_x = rand.uniform(xpresent-rand_range, xpresent)\n",
        "\n",
        "    if input_function(rand_x) <  input_function(xpresent):\n",
        "      xpresent = rand_x\n",
        "    elif prob_func(input_function, xold, xpresent) >= rand.random():\n",
        "      xpresent = rand_x    \n",
        "\n",
        "    xlist.append(xpresent)\n",
        "    k = k + 1\n",
        "\n",
        "    # print(f\"xold = {xold}, xpresent = {xpresent}\")\n",
        "    if(abs(xold-xpresent)/abs(xpresent) <= tol):\n",
        "      print(\"old-present ratio is less than tolerace\")\n",
        "      break\n",
        "\n",
        "    if(abs(input_function(xpresent)) <= tol):\n",
        "      print(\"present func is less than tolerace\")\n",
        "      break\n",
        "    \n",
        "  return xlist"
      ],
      "execution_count": 152,
      "outputs": []
    },
    {
      "cell_type": "code",
      "metadata": {
        "id": "1q2hev4Y5rLV"
      },
      "source": [
        "def prob_func(func, old, present):\n",
        "  if delta_c(func, old, present) <= 0:\n",
        "    return 1\n",
        "  else:\n",
        "    return m.e**(-delta_c(func, old, present)/present)"
      ],
      "execution_count": 61,
      "outputs": []
    },
    {
      "cell_type": "code",
      "metadata": {
        "id": "2TTgCp-3AeHh"
      },
      "source": [
        ""
      ],
      "execution_count": 150,
      "outputs": []
    }
  ]
}