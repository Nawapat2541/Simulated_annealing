{
  "nbformat": 4,
  "nbformat_minor": 0,
  "metadata": {
    "colab": {
      "name": "Simulated_annealing.ipynb",
      "provenance": [],
      "collapsed_sections": [],
      "authorship_tag": "ABX9TyMLvcOzx02oQC2o/DIj/quh",
      "include_colab_link": true
    },
    "kernelspec": {
      "name": "python3",
      "display_name": "Python 3"
    },
    "language_info": {
      "name": "python"
    }
  },
  "cells": [
    {
      "cell_type": "markdown",
      "metadata": {
        "id": "view-in-github",
        "colab_type": "text"
      },
      "source": [
        "<a href=\"https://colab.research.google.com/github/Nawapat2541/Simulated_annealing/blob/main/Simulated_annealing.ipynb\" target=\"_parent\"><img src=\"https://colab.research.google.com/assets/colab-badge.svg\" alt=\"Open In Colab\"/></a>"
      ]
    },
    {
      "cell_type": "code",
      "metadata": {
        "id": "htH5YPWVapVa"
      },
      "source": [
        "import inspect as ins\n",
        "import numpy as np\n",
        "import math as m\n",
        "import matplotlib.pyplot as plt\n",
        "import random as rand"
      ],
      "execution_count": 1,
      "outputs": []
    },
    {
      "cell_type": "code",
      "metadata": {
        "id": "Ed-5Y1TObFT5"
      },
      "source": [
        "def delta_c(func, a, b):\n",
        "  return abs(func(a) - func(b))"
      ],
      "execution_count": 2,
      "outputs": []
    },
    {
      "cell_type": "code",
      "metadata": {
        "id": "oD6b3bIyb9pf"
      },
      "source": [
        "objective_function = lambda x:  (x+3)*(x-2)**2*(x+1)**3"
      ],
      "execution_count": 3,
      "outputs": []
    },
    {
      "cell_type": "code",
      "metadata": {
        "colab": {
          "base_uri": "https://localhost:8080/"
        },
        "id": "ftrHUCv0cQi7",
        "outputId": "ea5d7613-f016-4ab0-e602-c5e4272f8d6f"
      },
      "source": [
        "diff = delta_c(objective_function, 3, 5)\n",
        "print(diff)"
      ],
      "execution_count": 4,
      "outputs": [
        {
          "output_type": "stream",
          "name": "stdout",
          "text": [
            "15168\n"
          ]
        }
      ]
    },
    {
      "cell_type": "code",
      "metadata": {
        "colab": {
          "base_uri": "https://localhost:8080/",
          "height": 901
        },
        "id": "yKp79om-ntYW",
        "outputId": "74184fc8-57c7-47f7-e820-d5aefe4be4b9"
      },
      "source": [
        "xlist = simulated_annealing(objective_function, -0.5, 4, 800, tol=1e-10)\n",
        "ylist = []\n",
        "for index, value in enumerate(xlist):\n",
        "    ylist.append(objective_function(value))\n",
        "    print(f\"round#{index}, value = {value}, function_value = {ylist[index]}\")\n",
        "\n",
        "plt.plot(xlist)"
      ],
      "execution_count": 107,
      "outputs": [
        {
          "output_type": "stream",
          "name": "stdout",
          "text": [
            "old-present ratio is less than tolerace\n",
            "round#0, value = -1.7705088527186268, function_value = -7.99573209620127\n",
            "round#1, value = -2.035740261441627, function_value = -17.449903283893338\n",
            "round#2, value = -2.171244030890337, function_value = -23.16861311615648\n",
            "round#3, value = -2.215842583712421, function_value = -25.04978928354225\n",
            "round#4, value = -2.3273171055245383, function_value = -29.45587315924394\n",
            "round#5, value = -2.355482423282406, function_value = -30.45011714009933\n",
            "round#6, value = -2.368111835866073, function_value = -30.87397292534582\n",
            "round#7, value = -2.3787843552122143, function_value = -31.22040558913509\n",
            "round#8, value = -2.384044591242666, function_value = -31.386973897241244\n",
            "round#9, value = -2.384762637665897, function_value = -31.409490412042192\n",
            "round#10, value = -2.3855045760986178, function_value = -31.432699719024075\n",
            "round#11, value = -2.3857210267581164, function_value = -31.439459888536977\n",
            "round#12, value = -2.385819242707489, function_value = -31.44252574354146\n",
            "round#13, value = -2.3858519573111576, function_value = -31.44354672026565\n",
            "round#14, value = -2.385897195320904, function_value = -31.44495835011264\n",
            "round#15, value = -2.385920494752762, function_value = -31.445685313748957\n",
            "round#16, value = -2.385933460867128, function_value = -31.446089843761996\n",
            "round#17, value = -2.3859369674076603, function_value = -31.446199241349714\n",
            "round#18, value = -2.3859387818747444, function_value = -31.4462558488652\n",
            "round#19, value = -2.385939698199266, function_value = -31.446284436111032\n",
            "round#20, value = -2.385939989102226, function_value = -31.446293511604896\n",
            "round#21, value = -2.3859400606355736, function_value = -31.446295743277133\n",
            "round#22, value = -2.3859401901147446, function_value = -31.446299782721454\n",
            "round#23, value = -2.385940338249537, function_value = -31.44630440417492\n",
            "round#24, value = -2.3859403433412836, function_value = -31.446304563025286\n",
            "round#25, value = -2.385940391635553, function_value = -31.446306069691197\n",
            "round#26, value = -2.385940406914764, function_value = -31.44630654636605\n",
            "round#27, value = -2.3859404113507625, function_value = -31.446306684758603\n",
            "round#28, value = -2.385940417574465, function_value = -31.446306878923227\n",
            "round#29, value = -2.3859404208378234, function_value = -31.446306980732192\n",
            "round#30, value = -2.3859404213707838, function_value = -31.446306997359283\n",
            "round#31, value = -2.385940421693018, function_value = -31.446307007412223\n",
            "round#32, value = -2.38594042178042, function_value = -31.446307010138966\n"
          ]
        },
        {
          "output_type": "execute_result",
          "data": {
            "text/plain": [
              "[<matplotlib.lines.Line2D at 0x7f17ca730dd0>]"
            ]
          },
          "metadata": {},
          "execution_count": 107
        },
        {
          "output_type": "display_data",
          "data": {
            "image/png": "[encoded data removed]",
            "text/plain": [
              "<Figure size 432x288 with 1 Axes>"
            ]
          },
          "metadata": {
            "needs_background": "light"
          }
        }
      ]
    },
    {
      "cell_type": "code",
      "metadata": {
        "id": "xkpazrYIpPHD"
      },
      "source": [
        "def simulated_annealing(input_function, x0=0, rand_range=10, kmax=1000, tol=1e-6):\n",
        "  random_range_present = rand_\n",
        "  xlist = []\n",
        "  k=1\n",
        "  xpresent = x0\n",
        "  while(k<=kmax):\n",
        "    xold = xpresent\n",
        "      \n",
        "    if k>=kmax/10 and k<kmax/2:\n",
        "      random_range_present =  rand_range - rand_range*0.2\n",
        "    elif k<3*kmax/4:\n",
        "      random_range_present =  rand_range - rand_range*0.5\n",
        "    elif k<9*kmax/10:\n",
        "      random_range_present =  rand_range - rand_range*0.8\n",
        "    elif k>=9*kmax/10:\n",
        "      random_range_present =  rand_range - rand_range*0.95\n",
        "    \n",
        "    if input_function(xpresent+0.01) < input_function(xpresent):\n",
        "      rand_x = rand.uniform(xpresent, xpresent+random_range_present)\n",
        "    else:\n",
        "      rand_x = rand.uniform(xpresent-random_range_present, xpresent)\n",
        "\n",
        "    if input_function(rand_x) <  input_function(xpresent):\n",
        "      xpresent = rand_x\n",
        "    elif prob_func(input_function, xold, xpresent) >= rand.random():\n",
        "      xpresent = rand_x    \n",
        "\n",
        "    xlist.append(xpresent)\n",
        "    k = k + 1\n",
        "\n",
        "    # print(f\"xold = {xold}, xpresent = {xpresent}\")\n",
        "    if(abs(xold-xpresent)/abs(xpresent) <= tol):\n",
        "      print(\"old-present ratio is less than tolerace\")\n",
        "      break\n",
        "\n",
        "    if(abs(input_function(xpresent)) <= tol):\n",
        "      print(\"present func is less than tolerace\")\n",
        "      break\n",
        "    \n",
        "  return xlist"
      ],
      "execution_count": 104,
      "outputs": []
    },
    {
      "cell_type": "code",
      "metadata": {
        "id": "1q2hev4Y5rLV"
      },
      "source": [
        "def prob_func(func, old, present):\n",
        "  if delta_c(func, old, present) <= 0:\n",
        "    return 1\n",
        "  else:\n",
        "    return m.e**(-delta_c(func, old, present)/present)"
      ],
      "execution_count": 29,
      "outputs": []
    },
    {
      "cell_type": "code",
      "metadata": {
        "id": "2TTgCp-3AeHh",
        "colab": {
          "base_uri": "https://localhost:8080/"
        },
        "outputId": "4e180820-27ab-43af-c224-41024bdcbce4"
      },
      "source": [
        "x1 = list(np.linspace(-3.5, 2.5, 100))\n",
        "print(x1)\n",
        "result = []\n",
        "for i in x1:\n",
        "  result.append(objective_function(i))\n",
        "\n",
        "print(result)"
      ],
      "execution_count": 30,
      "outputs": [
        {
          "output_type": "stream",
          "name": "stdout",
          "text": [
            "[-3.5, -3.4393939393939394, -3.378787878787879, -3.3181818181818183, -3.257575757575758, -3.196969696969697, -3.1363636363636362, -3.0757575757575757, -3.015151515151515, -2.9545454545454546, -2.893939393939394, -2.833333333333333, -2.7727272727272725, -2.712121212121212, -2.6515151515151514, -2.590909090909091, -2.5303030303030303, -2.4696969696969697, -2.409090909090909, -2.3484848484848486, -2.287878787878788, -2.2272727272727275, -2.1666666666666665, -2.106060606060606, -2.0454545454545454, -1.9848484848484849, -1.9242424242424243, -1.8636363636363635, -1.803030303030303, -1.7424242424242424, -1.6818181818181817, -1.621212121212121, -1.5606060606060606, -1.5, -1.4393939393939394, -1.378787878787879, -1.3181818181818183, -1.2575757575757573, -1.1969696969696968, -1.1363636363636362, -1.0757575757575757, -1.0151515151515151, -0.9545454545454546, -0.893939393939394, -0.833333333333333, -0.7727272727272725, -0.7121212121212119, -0.6515151515151514, -0.5909090909090908, -0.5303030303030303, -0.4696969696969697, -0.40909090909090917, -0.3484848484848486, -0.2878787878787876, -0.22727272727272707, -0.16666666666666652, -0.10606060606060597, -0.045454545454545414, 0.015151515151515138, 0.07575757575757569, 0.1363636363636367, 0.19696969696969724, 0.2575757575757578, 0.31818181818181834, 0.3787878787878789, 0.43939393939393945, 0.5, 0.5606060606060606, 0.6212121212121211, 0.6818181818181817, 0.7424242424242422, 0.8030303030303028, 0.8636363636363633, 0.9242424242424248, 0.9848484848484853, 1.0454545454545459, 1.1060606060606064, 1.166666666666667, 1.2272727272727275, 1.287878787878788, 1.3484848484848486, 1.4090909090909092, 1.4696969696969697, 1.5303030303030303, 1.5909090909090908, 1.6515151515151514, 1.712121212121212, 1.7727272727272725, 1.833333333333334, 1.8939393939393945, 1.954545454545455, 2.0151515151515156, 2.075757575757576, 2.1363636363636367, 2.1969696969696972, 2.257575757575758, 2.3181818181818183, 2.378787878787879, 2.4393939393939394, 2.5]\n",
            "[236.328125, 188.71260508722935, 147.51359893586195, 112.10996238804374, 81.92247470430934, 56.41206346729227, 35.078065165763384, 17.456521458994935, 3.1185111214540093, -8.331482332177663, -17.257167341656203, -23.992005315500712, -28.840735964990778, -32.080866957836946, -33.96412789152332, -34.71788858632303, -34.546541697986065, -33.63284965009989, -32.13925588612247, -30.209160441087864, -27.968159832984508, -25.525251273805992, -22.974001200274337, -20.393678124236057, -17.850349802730467, -15.397944727730893, -13.079277935558212, -10.927041135967087, -8.964757160904755, -7.207698732942307, -5.663771553378626, -4.334361710016884, -3.2151474046135426, -2.296875, -1.566099386876761, -1.0058886702801966, -0.5964931757218643, -0.3159787750003995, -0.14082453168598447, -0.04648466627736769, -0.00791484103147352, -6.276446556995467e-05, 0.0016768844679917834, 0.021043212534468156, 0.08052554869684543, 0.20101556092338968, 0.40149505332263186, 0.6987594436057795, 1.107176920876561, 1.6384832837484995, 2.3016124587896183, 3.1025626992945754, 4.044298464384231, 5.126687978432651, 6.3464764708215, 7.697295096021952, 9.16970553400394, 10.75128027097289, 12.426718560433862, 14.177998064583143, 15.984562176027254, 17.823543019829348, 19.670020135883163, 21.497314841614262, 23.277320275008794, 24.980867117969634, 26.578125, 28.039039582214468, 29.333805321677417, 30.43337391606893, 31.30999842867812, 31.937813093723825, 32.293448802002864, 32.356684266865564, 32.11113287051885, 31.544965190656708, 30.651667207418072, 29.43083419067215, 27.889000267631193, 26.040503670790702, 23.90838766619702, 21.525337162042398, 18.934650997587475, 16.191249912411205, 13.362720195988173, 10.530393017593404, 7.790459436534531, 5.255121092711465, 3.05377657750341, 1.334243484983489, 0.2640161434604794, 0.03155902734830223, 0.8476358493627777, 2.9466743330458427, 6.588166665617202, 12.05810563115341, 19.67045642409437, 29.768664143077284, 42.727196965098045, 58.953125]\n"
          ]
        }
      ]
    },
    {
      "cell_type": "code",
      "metadata": {
        "colab": {
          "base_uri": "https://localhost:8080/",
          "height": 340
        },
        "id": "h8zduubPpVdv",
        "outputId": "b657a06d-0cba-4d41-a153-300302a18a34"
      },
      "source": [
        "plt.scatter(xlist, ylist, c='r')\n",
        "print(xlist)\n",
        "print(ylist)\n",
        "plt.plot(x1, result)"
      ],
      "execution_count": 108,
      "outputs": [
        {
          "output_type": "stream",
          "name": "stdout",
          "text": [
            "[-1.7705088527186268, -2.035740261441627, -2.171244030890337, -2.215842583712421, -2.3273171055245383, -2.355482423282406, -2.368111835866073, -2.3787843552122143, -2.384044591242666, -2.384762637665897, -2.3855045760986178, -2.3857210267581164, -2.385819242707489, -2.3858519573111576, -2.385897195320904, -2.385920494752762, -2.385933460867128, -2.3859369674076603, -2.3859387818747444, -2.385939698199266, -2.385939989102226, -2.3859400606355736, -2.3859401901147446, -2.385940338249537, -2.3859403433412836, -2.385940391635553, -2.385940406914764, -2.3859404113507625, -2.385940417574465, -2.3859404208378234, -2.3859404213707838, -2.385940421693018, -2.38594042178042]\n",
            "[-7.99573209620127, -17.449903283893338, -23.16861311615648, -25.04978928354225, -29.45587315924394, -30.45011714009933, -30.87397292534582, -31.22040558913509, -31.386973897241244, -31.409490412042192, -31.432699719024075, -31.439459888536977, -31.44252574354146, -31.44354672026565, -31.44495835011264, -31.445685313748957, -31.446089843761996, -31.446199241349714, -31.4462558488652, -31.446284436111032, -31.446293511604896, -31.446295743277133, -31.446299782721454, -31.44630440417492, -31.446304563025286, -31.446306069691197, -31.44630654636605, -31.446306684758603, -31.446306878923227, -31.446306980732192, -31.446306997359283, -31.446307007412223, -31.446307010138966]\n"
          ]
        },
        {
          "output_type": "execute_result",
          "data": {
            "text/plain": [
              "[<matplotlib.lines.Line2D at 0x7f17ca7233d0>]"
            ]
          },
          "metadata": {},
          "execution_count": 108
        },
        {
          "output_type": "display_data",
          "data": {
            "image/png": "[encoded data removed]",
            "text/plain": [
              "<Figure size 432x288 with 1 Axes>"
            ]
          },
          "metadata": {
            "needs_background": "light"
          }
        }
      ]
    }
  ]
}